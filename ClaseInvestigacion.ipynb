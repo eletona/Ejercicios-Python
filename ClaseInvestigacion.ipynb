{
 "cells": [
  {
   "cell_type": "code",
   "execution_count": 1,
   "metadata": {},
   "outputs": [],
   "source": [
    "###Ejercicio clase"
   ]
  },
  {
   "cell_type": "markdown",
   "metadata": {},
   "source": [
    "a= \"hola a todos\"\n",
    "print(a)"
   ]
  },
  {
   "cell_type": "code",
   "execution_count": 3,
   "metadata": {},
   "outputs": [
    {
     "name": "stdout",
     "output_type": "stream",
     "text": [
      "hola a todos\n"
     ]
    }
   ],
   "source": [
    "a= \"hola a todos\"\n",
    "print(a)"
   ]
  },
  {
   "cell_type": "code",
   "execution_count": 6,
   "metadata": {},
   "outputs": [
    {
     "name": "stdout",
     "output_type": "stream",
     "text": [
      " Hola\n",
      " como estan\n"
     ]
    }
   ],
   "source": [
    "a= \"\"\" Hola\n",
    " como estan\"\"\"\n",
    "print(a)"
   ]
  },
  {
   "cell_type": "markdown",
   "metadata": {},
   "source": [
    "###Variables"
   ]
  },
  {
   "cell_type": "code",
   "execution_count": null,
   "metadata": {},
   "outputs": [],
   "source": [
    "numero=4\n",
    "mistring=\"hola\"\n",
    "miBool= True"
   ]
  },
  {
   "cell_type": "code",
   "execution_count": 8,
   "metadata": {},
   "outputs": [
    {
     "name": "stdout",
     "output_type": "stream",
     "text": [
      "hola mi edad es:  23\n",
      "hola mi edad es: 23\n"
     ]
    }
   ],
   "source": [
    "edad=23\n",
    "print(\"hola mi edad es: \", edad)\n",
    "print(\"hola mi edad es: \"+str(edad))#contatenar"
   ]
  },
  {
   "cell_type": "code",
   "execution_count": 10,
   "metadata": {},
   "outputs": [
    {
     "name": "stdout",
     "output_type": "stream",
     "text": [
      "hola mi nombre es edvin letonay mi edad es: 23\n"
     ]
    }
   ],
   "source": [
    "nombre=\"edvin letona\"\n",
    "print(f\"hola mi nombre es {nombre}y mi edad es: {edad}\")"
   ]
  },
  {
   "cell_type": "code",
   "execution_count": 11,
   "metadata": {},
   "outputs": [
    {
     "name": "stdout",
     "output_type": "stream",
     "text": [
      "SELECT * FROM empleado\n",
      "        WHERE salario >= 25000 AND estado = Finanzas\n"
     ]
    }
   ],
   "source": [
    "salario=25000\n",
    "dept=\"Finanzas\"\n",
    "miQuery= \"\"\"SELECT * FROM empleado\n",
    "        WHERE salario >= 25000 AND estado = Finanzas\"\"\"\n",
    "print(miQuery)"
   ]
  },
  {
   "cell_type": "code",
   "execution_count": 12,
   "metadata": {},
   "outputs": [
    {
     "name": "stdout",
     "output_type": "stream",
     "text": [
      "hola, edvin letona, esto es pyton\n"
     ]
    }
   ],
   "source": [
    "nombre= input(\"ingrese su nombre: \")\n",
    "print(f\"hola, {nombre}, esto es pyton\")"
   ]
  },
  {
   "cell_type": "markdown",
   "metadata": {},
   "source": [
    "Strings"
   ]
  },
  {
   "cell_type": "code",
   "execution_count": 2,
   "metadata": {},
   "outputs": [
    {
     "data": {
      "text/plain": [
       "12"
      ]
     },
     "execution_count": 2,
     "metadata": {},
     "output_type": "execute_result"
    }
   ],
   "source": [
    "a=\"Edvin Letona\"\n",
    "a[0:5] #cuenta las posiciones\n",
    "\n",
    "len(a)#contar los caracteres\n"
   ]
  },
  {
   "cell_type": "markdown",
   "metadata": {},
   "source": [
    "Ejemplo"
   ]
  },
  {
   "cell_type": "code",
   "execution_count": 4,
   "metadata": {},
   "outputs": [
    {
     "name": "stdout",
     "output_type": "stream",
     "text": [
      "El numero es cero\n"
     ]
    }
   ],
   "source": [
    "numero= int(input(\"ingrese un numero:\"))\n",
    "if(numero!=0):\n",
    "    print(\"El numero no es cero\")\n",
    "else:\n",
    "    print(\"El numero es cero\")\n",
    "    "
   ]
  },
  {
   "cell_type": "code",
   "execution_count": 7,
   "metadata": {},
   "outputs": [
    {
     "name": "stdout",
     "output_type": "stream",
     "text": [
      "dia incorrecto\n"
     ]
    }
   ],
   "source": [
    "dia= int(input(\"Ingrese un numeor de dia\"))\n",
    "\n",
    "if(dia>=1 and dia <=7):\n",
    "    if(dia==1):\n",
    "        print(\"El dia es lunes\")\n",
    "    elif(dia==2):\n",
    "        print(\"El dia es martes\")\n",
    "    elif(dia==3):\n",
    "        print(\"El dia es Miercoles\")\n",
    "    elif(dia==4):\n",
    "        print(\"El dia es jueves\")\n",
    "    elif(dia==5):\n",
    "        print(\"El dia es viernes\")\n",
    "    elif(dia==6):\n",
    "        print(\"El dia es sabado\")\n",
    "    elif(dia==7):\n",
    "        print(\"El dia es domingo\")\n",
    "else:\n",
    "    print(\"dia incorrecto\")"
   ]
  },
  {
   "cell_type": "markdown",
   "metadata": {},
   "source": [
    "LISTAS"
   ]
  },
  {
   "cell_type": "code",
   "execution_count": 9,
   "metadata": {},
   "outputs": [],
   "source": [
    "lista = [10,20,30,40,50,60]\n",
    "\n",
    "#es dinamica\n",
    "#almacena diferentes tipos de datos\n",
    "#es indexable"
   ]
  },
  {
   "cell_type": "code",
   "execution_count": 10,
   "metadata": {},
   "outputs": [
    {
     "data": {
      "text/plain": [
       "50"
      ]
     },
     "execution_count": 10,
     "metadata": {},
     "output_type": "execute_result"
    }
   ],
   "source": [
    "lista[4]"
   ]
  },
  {
   "cell_type": "markdown",
   "metadata": {},
   "source": [
    "### Agregar nuevos elementos a la lista"
   ]
  },
  {
   "cell_type": "code",
   "execution_count": 11,
   "metadata": {},
   "outputs": [],
   "source": [
    "lista.append('Data')"
   ]
  },
  {
   "cell_type": "code",
   "execution_count": 12,
   "metadata": {},
   "outputs": [
    {
     "data": {
      "text/plain": [
       "[10, 20, 30, 40, 50, 60, 'Data']"
      ]
     },
     "execution_count": 12,
     "metadata": {},
     "output_type": "execute_result"
    }
   ],
   "source": [
    "lista"
   ]
  },
  {
   "cell_type": "code",
   "execution_count": 13,
   "metadata": {},
   "outputs": [],
   "source": [
    "lista.insert(3, 'ClaseInvestigacion')"
   ]
  },
  {
   "cell_type": "code",
   "execution_count": 14,
   "metadata": {},
   "outputs": [
    {
     "data": {
      "text/plain": [
       "[10, 20, 30, 'ClaseInvestigacion', 40, 50, 60, 'Data']"
      ]
     },
     "execution_count": 14,
     "metadata": {},
     "output_type": "execute_result"
    }
   ],
   "source": [
    "lista"
   ]
  },
  {
   "cell_type": "markdown",
   "metadata": {},
   "source": [
    "eliminar elementos en la lista"
   ]
  },
  {
   "cell_type": "code",
   "execution_count": 15,
   "metadata": {},
   "outputs": [],
   "source": [
    "del lista[3]#eliminar la posicion"
   ]
  },
  {
   "cell_type": "code",
   "execution_count": 19,
   "metadata": {},
   "outputs": [
    {
     "data": {
      "text/plain": [
       "[10, 20, 30, 40, 50, 60]"
      ]
     },
     "execution_count": 19,
     "metadata": {},
     "output_type": "execute_result"
    }
   ],
   "source": [
    "lista"
   ]
  },
  {
   "cell_type": "code",
   "execution_count": 17,
   "metadata": {},
   "outputs": [],
   "source": [
    "lista.remove('Data')#elimina por valor"
   ]
  },
  {
   "cell_type": "markdown",
   "metadata": {},
   "source": [
    "## Ejemplo"
   ]
  },
  {
   "cell_type": "code",
   "execution_count": 20,
   "metadata": {},
   "outputs": [
    {
     "name": "stdout",
     "output_type": "stream",
     "text": [
      "Hora: 1 - Minutos 0 - Segundos 0\n"
     ]
    }
   ],
   "source": [
    "Segundos= int(input(\"Ingrese los Segundos\"))\n",
    "\n",
    "Hora = Segundos //(60*60)\n",
    "Segundos = Segundos % (60*60)\n",
    "Minutos = Segundos // (60)\n",
    "Segundos = Segundos % (60)\n",
    "\n",
    "print('Hora: {} - Minutos {} - Segundos {}'.format(Hora, Minutos, Segundos))\n"
   ]
  },
  {
   "cell_type": "code",
   "execution_count": 21,
   "metadata": {},
   "outputs": [
    {
     "name": "stdout",
     "output_type": "stream",
     "text": [
      "tines 37 años 10 meses y 17 dias\n"
     ]
    }
   ],
   "source": [
    "from datetime import datetime\n",
    "\n",
    "dia= int(input(\"intruduce el dia actual\"))\n",
    "mes= int(input(\"intruduce el mes actual\"))\n",
    "año= int(input(\"intruduce el año actual\"))\n",
    "\n",
    "dia_aniversario= int(input(\"introduce el dia de tu nacimiento\"))\n",
    "mes_aniversario= int(input(\"introduce el mes de tu nacimiento\"))\n",
    "año_aniversario= int(input(\"introduce el año de tu nacimiento\"))\n",
    "\n",
    "resultado_dia= dia - dia_aniversario\n",
    "resultado_mes= mes - mes_aniversario\n",
    "resultado_año= año - año_aniversario\n",
    "\n",
    "print(\"tines\", resultado_año, \"años\", resultado_mes, \"meses\", \"y\", resultado_dia, \"dias\")\n"
   ]
  },
  {
   "cell_type": "markdown",
   "metadata": {},
   "source": [
    "## Python es un poderoso lenguaje programacion de alto nivel y de facil entendimiento y uso por la sintaxis bastante sencilla"
   ]
  }
 ],
 "metadata": {
  "kernelspec": {
   "display_name": "ClaseInvestigacion",
   "language": "python",
   "name": "python3"
  },
  "language_info": {
   "codemirror_mode": {
    "name": "ipython",
    "version": 3
   },
   "file_extension": ".py",
   "mimetype": "text/x-python",
   "name": "python",
   "nbconvert_exporter": "python",
   "pygments_lexer": "ipython3",
   "version": "3.11.5"
  }
 },
 "nbformat": 4,
 "nbformat_minor": 2
}
